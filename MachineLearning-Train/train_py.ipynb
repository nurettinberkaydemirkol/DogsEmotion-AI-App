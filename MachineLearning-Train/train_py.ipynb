{
 "cells": [
  {
   "cell_type": "code",
   "execution_count": null,
   "id": "2cd5aea5",
   "metadata": {},
   "outputs": [],
   "source": [
    "import tensorflow as tf\n",
    "from tensorflow.keras.preprocessing.image import ImageDataGenerator\n",
    "\n",
    "base_dir = r\"path\"\n",
    "\n",
    "train_datagen = ImageDataGenerator(rescale=1./255, validation_split=0.1)\n",
    "\n",
    "test_datagen = ImageDataGenerator(rescale=1./255, validation_split=0.1)\n",
    "\n",
    "train_datagen = train_datagen.flow_from_directory(\n",
    "    base_dir,\n",
    "    target_size=(256,256),\n",
    "    subset=\"training\",\n",
    "    batch_size=2\n",
    ")\n",
    "\n",
    "test_datagen = test_datagen.flow_from_directory(\n",
    "    base_dir,\n",
    "    target_size=(256,256),\n",
    "    subset=\"validation\",\n",
    "    batch_size=2\n",
    ")"
   ]
  },
  {
   "cell_type": "code",
   "execution_count": null,
   "id": "53fbcb07",
   "metadata": {},
   "outputs": [],
   "source": [
    "import matplotlib.pyplot as plt\n",
    "\n",
    "for _ in range(1):\n",
    "    img,label = test_datagen.next()\n",
    "    print(img.shape)\n",
    "    plt.imshow(img[0])\n",
    "    print(label[0])\n",
    "    plt.show()"
   ]
  },
  {
   "cell_type": "code",
   "execution_count": 3,
   "id": "7ebc0ccf",
   "metadata": {},
   "outputs": [],
   "source": [
    "import tensorflow as tf\n",
    "import numpy as np\n",
    "import pylab as pl\n",
    "from keras import backend as K\n",
    "import matplotlib.pyplot as plt\n",
    "from keras.utils import np_utils\n",
    "from keras.models import Sequential\n",
    "from keras.layers.convolutional import Conv2D, MaxPooling2D\n",
    "from keras.layers.core import Dense, Dropout, Activation, Flatten\n",
    "from tensorflow.keras import layers, activations"
   ]
  },
  {
   "cell_type": "code",
   "execution_count": 4,
   "id": "5954544c",
   "metadata": {},
   "outputs": [],
   "source": [
    "model = Sequential()\n",
    "\n",
    "model.add(layers.Conv2D(filters=32, activation=\"relu\", kernel_size=(3,3), input_shape = (256,256,3)))\n",
    "model.add(layers.MaxPooling2D(2,2))\n",
    "model.add(layers.Conv2D(filters=64, activation=\"relu\", kernel_size=(3,3)))\n",
    "model.add(layers.MaxPooling2D(2,2))\n",
    "model.add(layers.Conv2D(filters=64, activation=\"relu\", kernel_size=(3,3)))\n",
    "model.add(layers.MaxPooling2D(2,2))\n",
    "\n",
    "model.add(layers.Flatten())\n",
    "\n",
    "model.add(layers.Dense(64, activation=\"relu\"))\n",
    "model.add(layers.Dense(128, activation=\"relu\"))\n",
    "model.add(layers.Dense(32, activation=\"relu\"))\n",
    "model.add(layers.Dense(4, activation=\"softmax\"))"
   ]
  },
  {
   "cell_type": "code",
   "execution_count": 5,
   "id": "6847bd1e",
   "metadata": {},
   "outputs": [
    {
     "name": "stdout",
     "output_type": "stream",
     "text": [
      "Model: \"sequential\"\n",
      "_________________________________________________________________\n",
      "Layer (type)                 Output Shape              Param #   \n",
      "=================================================================\n",
      "conv2d (Conv2D)              (None, 254, 254, 32)      896       \n",
      "_________________________________________________________________\n",
      "max_pooling2d (MaxPooling2D) (None, 127, 127, 32)      0         \n",
      "_________________________________________________________________\n",
      "conv2d_1 (Conv2D)            (None, 125, 125, 64)      18496     \n",
      "_________________________________________________________________\n",
      "max_pooling2d_1 (MaxPooling2 (None, 62, 62, 64)        0         \n",
      "_________________________________________________________________\n",
      "conv2d_2 (Conv2D)            (None, 60, 60, 64)        36928     \n",
      "_________________________________________________________________\n",
      "max_pooling2d_2 (MaxPooling2 (None, 30, 30, 64)        0         \n",
      "_________________________________________________________________\n",
      "flatten (Flatten)            (None, 57600)             0         \n",
      "_________________________________________________________________\n",
      "dense (Dense)                (None, 64)                3686464   \n",
      "_________________________________________________________________\n",
      "dense_1 (Dense)              (None, 128)               8320      \n",
      "_________________________________________________________________\n",
      "dense_2 (Dense)              (None, 32)                4128      \n",
      "_________________________________________________________________\n",
      "dense_3 (Dense)              (None, 4)                 132       \n",
      "=================================================================\n",
      "Total params: 3,755,364\n",
      "Trainable params: 3,755,364\n",
      "Non-trainable params: 0\n",
      "_________________________________________________________________\n"
     ]
    }
   ],
   "source": [
    "model.summary()"
   ]
  },
  {
   "cell_type": "code",
   "execution_count": 8,
   "id": "ec156690",
   "metadata": {},
   "outputs": [],
   "source": [
    "optimizer = tf.keras.optimizers.Adamax(learning_rate=0.001)\n",
    "loss = tf.keras.losses.CategoricalCrossentropy()"
   ]
  },
  {
   "cell_type": "code",
   "execution_count": 9,
   "id": "4119ddb7",
   "metadata": {},
   "outputs": [],
   "source": [
    "model.compile(optimizer=optimizer, loss=loss, metrics=[\"mse\", \"accuracy\"])"
   ]
  },
  {
   "cell_type": "code",
   "execution_count": null,
   "id": "bba2a288",
   "metadata": {},
   "outputs": [],
   "source": [
    "result = model.fit(train_datagen, epochs=6, verbose=1, validation_data= test_datagen)"
   ]
  },
  {
   "cell_type": "code",
   "execution_count": null,
   "id": "47c45444",
   "metadata": {},
   "outputs": [],
   "source": [
    "test_a = model.predict(test_datagen)\n",
    "t = []\n",
    "print(test_datagen.class_indices)\n",
    "for i in test_a:\n",
    "    t.append(np.argmax(i))\n",
    "\n",
    "x=zip(t, test_datagen.labels)\n",
    "for i,j in x:\n",
    "    print(\"Tahmin:{} Gerçek:{}\".format(i,j))"
   ]
  },
  {
   "cell_type": "code",
   "execution_count": 39,
   "id": "418657f1",
   "metadata": {},
   "outputs": [
    {
     "name": "stdout",
     "output_type": "stream",
     "text": [
      "{'cat': 0, 'dog': 1, 'human': 2, 'somewhere': 3}\n",
      "[[1.1252623e-04 9.9988651e-01 3.3058662e-08 9.1394827e-07]]\n"
     ]
    },
    {
     "data": {
      "text/plain": [
       "1"
      ]
     },
     "execution_count": 39,
     "metadata": {},
     "output_type": "execute_result"
    }
   ],
   "source": [
    "from PIL import Image\n",
    "from skimage import transform\n",
    "\n",
    "image = Image.open(r\"dog.jpg\")\n",
    "\n",
    "def one_image(path):\n",
    "    image=Image.open(path)\n",
    "    image=np.array(image).astype(\"float32\")/255\n",
    "    image=transform.resize(image, (256,256,3))\n",
    "    image=np.expand_dims(image, axis=0)\n",
    "    print(test_datagen.class_indices)\n",
    "    return image\n",
    "\n",
    "image = one_image(\"dog.jpg\")\n",
    "pred = model.predict(image)\n",
    "print(pred)\n",
    "np.argmax(pred)"
   ]
  },
  {
   "cell_type": "code",
   "execution_count": null,
   "id": "89d25a08",
   "metadata": {},
   "outputs": [],
   "source": [
    "model.save(\"path\")"
   ]
  },
  {
   "cell_type": "code",
   "execution_count": 27,
   "id": "fa8d473d",
   "metadata": {},
   "outputs": [],
   "source": [
    "model.save(\"path\")"
   ]
  },
  {
   "cell_type": "code",
   "execution_count": 7,
   "id": "ee33afde",
   "metadata": {},
   "outputs": [],
   "source": [
    "model.load_weights(\"path\")"
   ]
  },
  {
   "cell_type": "code",
   "execution_count": null,
   "id": "9cdc3994",
   "metadata": {},
   "outputs": [],
   "source": [
    "model.evaluate(test_datagen)"
   ]
  },
  {
   "cell_type": "code",
   "execution_count": null,
   "id": "ead2e592",
   "metadata": {},
   "outputs": [],
   "source": []
  }
 ],
 "metadata": {
  "kernelspec": {
   "display_name": "Python 3",
   "language": "python",
   "name": "python3"
  },
  "language_info": {
   "codemirror_mode": {
    "name": "ipython",
    "version": 3
   },
   "file_extension": ".py",
   "mimetype": "text/x-python",
   "name": "python",
   "nbconvert_exporter": "python",
   "pygments_lexer": "ipython3",
   "version": "3.8.8"
  }
 },
 "nbformat": 4,
 "nbformat_minor": 5
}
